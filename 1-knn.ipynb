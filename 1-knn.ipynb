{
 "cells": [
  {
   "cell_type": "markdown",
   "metadata": {},
   "source": [
    "# KNN aplicado ao reconhecimento de dígitos (MNIST) "
   ]
  },
  {
   "cell_type": "code",
   "execution_count": null,
   "metadata": {},
   "outputs": [
    {
     "name": "stdout",
     "output_type": "stream",
     "text": [
      "1.2.0\n"
     ]
    }
   ],
   "source": [
    "import torch\n",
    "print(torch.__version__)\n",
    "import torch.nn as nn\n",
    "import torchvision.transforms as transforms\n",
    "import torchvision.datasets as dsets\n",
    "import torch.nn.functional as F"
   ]
  },
  {
   "cell_type": "markdown",
   "metadata": {},
   "source": [
    "### Loading the dataset (MNIST)"
   ]
  },
  {
   "cell_type": "code",
   "execution_count": 2,
   "metadata": {},
   "outputs": [],
   "source": [
    "train_dataset = dsets.MNIST(root='./data', \n",
    "                            train=True, \n",
    "                            transform=transforms.ToTensor(),\n",
    "                            download=True)\n",
    "\n",
    "test_dataset = dsets.MNIST(root='./data', \n",
    "                           train=False, \n",
    "                           transform=transforms.ToTensor())\n"
   ]
  },
  {
   "cell_type": "markdown",
   "metadata": {},
   "source": [
    "Separando algumas amostras para treino e outras para teste"
   ]
  },
  {
   "cell_type": "code",
   "execution_count": 3,
   "metadata": {},
   "outputs": [],
   "source": [
    "n_training_samples = 10000\n",
    "train_data = train_dataset.data[:n_training_samples].view(n_training_samples, -1)\n",
    "train_targets = train_dataset.targets[:n_training_samples].view(n_training_samples, -1)\n",
    "\n",
    "test_data = test_dataset.data[:500].view(500, -1)\n",
    "test_targets = test_dataset.targets[:500].view(500, -1)\n",
    "\n",
    "# transformando os valores de pixel (int) para double \n",
    "train_data = train_data.float()\n",
    "test_data = test_data.float()"
   ]
  },
  {
   "cell_type": "markdown",
   "metadata": {},
   "source": [
    "Vamos verificar um exemplo:"
   ]
  },
  {
   "cell_type": "code",
   "execution_count": 25,
   "metadata": {},
   "outputs": [
    {
     "name": "stdout",
     "output_type": "stream",
     "text": [
      "Forma dos dados de teste: torch.Size([500, 784])\n",
      "Classe da imagem: 7\n"
     ]
    },
    {
     "data": {
      "image/png": "[encoded data removed]",
      "text/plain": [
       "<Figure size 432x288 with 1 Axes>"
      ]
     },
     "metadata": {
      "needs_background": "light"
     },
     "output_type": "display_data"
    }
   ],
   "source": [
    "import matplotlib.pyplot as plt\n",
    "\n",
    "print('Forma dos dados de teste:', test_data.shape)\n",
    "print('Classe da imagem:', test_targets[0].item())\n",
    "img = test_data[0].view(28, 28)\n",
    "plt.imshow(img, cmap='gray')\n",
    "plt.show()"
   ]
  },
  {
   "cell_type": "markdown",
   "metadata": {},
   "source": [
    "### Definindo o modelo e realizando predições"
   ]
  },
  {
   "cell_type": "code",
   "execution_count": 21,
   "metadata": {},
   "outputs": [],
   "source": [
    "class KNN():\n",
    "    def __init__(self, K, train_data, train_targets):\n",
    "        super(KNN, self).__init__()\n",
    "        self.data = train_data\n",
    "        self.K = K\n",
    "        self.targets = train_targets\n",
    "\n",
    "    def predict(self, x):\n",
    "        dists = torch.cdist(x, self.data) # computa dist. ponto a ponto\n",
    "        idxs = dists.argsort()[:, :self.K] # orderna e separa os indices dos k mais proximos\n",
    "        knns = self.targets[idxs]  # seleciona os rotulos dos vizinhos\n",
    "        return knns.mode(dim=1).values  # retorna os valores da moda nos K vizinhos\n",
    "    \n",
    "model = KNN(5, train_data, train_targets) # usando K=5"
   ]
  },
  {
   "cell_type": "code",
   "execution_count": 22,
   "metadata": {},
   "outputs": [
    {
     "name": "stdout",
     "output_type": "stream",
     "text": [
      "tensor(0.9180)\n"
     ]
    }
   ],
   "source": [
    "predictions = model.predict(test_data) # Predições\n",
    "\n",
    "# Computando a taxa de acerto (conjunto de teste)\n",
    "acc = torch.mean((predictions-test_targets == 0).float())\n",
    "print(acc)"
   ]
  },
  {
   "cell_type": "code",
   "execution_count": 23,
   "metadata": {},
   "outputs": [
    {
     "name": "stdout",
     "output_type": "stream",
     "text": [
      "tensor(0.9669)\n"
     ]
    }
   ],
   "source": [
    "pred_train = model.predict(train_data) # Predições (treino)\n",
    "\n",
    "# Computando a taxa de acerto (conjunto de treino)\n",
    "acc = torch.mean((pred_train-train_targets == 0).float())\n",
    "print(acc)"
   ]
  },
  {
   "cell_type": "markdown",
   "metadata": {},
   "source": [
    "### Outra forma de calcular distâncias ponto-a-ponto"
   ]
  },
  {
   "cell_type": "code",
   "execution_count": 24,
   "metadata": {},
   "outputs": [],
   "source": [
    "def pdist2(x, y):\n",
    "    n = x.size(0)\n",
    "    m = y.size(0)\n",
    "    d = x.size(1)\n",
    "    x = x.unsqueeze(1).expand(n, m, d)\n",
    "    y = y.unsqueeze(0).expand(n, m, d)\n",
    "    return torch.pow(x - y, 2).sum(2)     \n"
   ]
  }
 ],
 "metadata": {
  "kernelspec": {
   "display_name": "Python 3",
   "language": "python",
   "name": "python3"
  },
  "language_info": {
   "codemirror_mode": {
    "name": "ipython",
    "version": 3
   },
   "file_extension": ".py",
   "mimetype": "text/x-python",
   "name": "python",
   "nbconvert_exporter": "python",
   "pygments_lexer": "ipython3",
   "version": "3.6.8"
  }
 },
 "nbformat": 4,
 "nbformat_minor": 2
}
